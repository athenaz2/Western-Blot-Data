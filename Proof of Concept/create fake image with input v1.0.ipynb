{
 "cells": [
  {
   "cell_type": "code",
   "execution_count": 1,
   "id": "c3176124",
   "metadata": {},
   "outputs": [],
   "source": [
    "# Copy region and paste onto another area\n",
    "# Referenced https://www.adamsmith.haus/python/examples/3039/pil-copy-a-region-of-an-image-to-another-area \n",
    "\n",
    "from IPython.display import Image\n",
    "from PIL import Image\n",
    "import numpy as np\n",
    "import matplotlib.pyplot as plt \n",
    "import cv2"
   ]
  },
  {
   "cell_type": "code",
   "execution_count": 2,
   "id": "91c2e225",
   "metadata": {},
   "outputs": [
    {
     "name": "stdout",
     "output_type": "stream",
     "text": [
      "File path: SCC25DDP_BMI1.jpg\n"
     ]
    }
   ],
   "source": [
    "# file input, e.g. SCC25DDP_BMI1.jpg\n",
    "old_file_path = input(\"File path: \")\n",
    "old_img = Image.open(\"images_separated/\" + old_file_path, \"r\")"
   ]
  },
  {
   "cell_type": "code",
   "execution_count": null,
   "id": "7ead86e2",
   "metadata": {},
   "outputs": [],
   "source": [
    "# Referenced https://pyimagesearch.com/2014/08/04/opencv-python-color-detection/\n",
    "\n",
    "# identify two columns to switch\n",
    "# copy paste a column into new column \n",
    "\n",
    "image = cv2.imread(\"images_separated/\" + old_file_path)\n",
    "\n",
    "# define the list of boundaries\n",
    "boundaries = [\n",
    "    ([0, 0, 0], [170, 170, 170]),\n",
    "]\n",
    "\n",
    "# loop over the boundaries\n",
    "for (lower, upper) in boundaries:\n",
    "    # create NumPy arrays from the boundaries\n",
    "    lower = np.array(lower, dtype = \"uint8\")\n",
    "    upper = np.array(upper, dtype = \"uint8\")\n",
    "    # find the colors within the specified boundaries and apply the mask\n",
    "    mask = cv2.inRange(image, lower, upper)\n",
    "    output = cv2.bitwise_and(image, image, mask = mask)\n",
    "    # show the images\n",
    "    cv2.imshow(\"images\", np.hstack([image, output]))\n",
    "    cv2.waitKey(0)"
   ]
  },
  {
   "cell_type": "code",
   "execution_count": null,
   "id": "78aa23d2",
   "metadata": {},
   "outputs": [],
   "source": [
    "# output new image to new file path\n",
    "new_file_path = \"images_manipulated/\" + old_file_path\n",
    "old_img.save(new_file_path)\n",
    "\n",
    "# display manipulated image\n",
    "#Image(filename = old_file_path)\n",
    "Image(filename = new_file_path) "
   ]
  },
  {
   "cell_type": "code",
   "execution_count": null,
   "id": "cde342de",
   "metadata": {},
   "outputs": [],
   "source": []
  }
 ],
 "metadata": {
  "kernelspec": {
   "display_name": "Python 3 (ipykernel)",
   "language": "python",
   "name": "python3"
  },
  "language_info": {
   "codemirror_mode": {
    "name": "ipython",
    "version": 3
   },
   "file_extension": ".py",
   "mimetype": "text/x-python",
   "name": "python",
   "nbconvert_exporter": "python",
   "pygments_lexer": "ipython3",
   "version": "3.9.13"
  }
 },
 "nbformat": 4,
 "nbformat_minor": 5
}
