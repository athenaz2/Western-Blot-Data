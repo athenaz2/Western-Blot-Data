{
 "cells": [
  {
   "cell_type": "code",
   "execution_count": 1,
   "id": "b3eb631b",
   "metadata": {},
   "outputs": [],
   "source": [
    "# referenced https://stackoverflow.com/questions/70999910/how-to-detect-a-rectangle-block-from-an-image-and-change-it-to-white-color\n",
    "from IPython.display import Image\n",
    "from PIL import Image\n",
    "import numpy as np\n",
    "import matplotlib.pyplot as plt \n",
    "import cv2"
   ]
  },
  {
   "cell_type": "code",
   "execution_count": 2,
   "id": "e81a403b",
   "metadata": {},
   "outputs": [
    {
     "name": "stdout",
     "output_type": "stream",
     "text": [
      "File path: SCC25DDP_GAPDH.jpg\n"
     ]
    }
   ],
   "source": [
    "# file input, e.g. SCC25DDP_BMI1.jpg\n",
    "old_file_path = input(\"File path: \")\n",
    "old_image = cv2.imread(\"images_separated/\" + old_file_path)\n",
    "\n",
    "# convert to grayscale\n",
    "gray = cv2.cvtColor(old_image, cv2.COLOR_BGR2GRAY)\n",
    "\n",
    "# threshold\n",
    "thresh = cv2.threshold(gray, 245, 255, cv2.THRESH_BINARY)[1]\n",
    "\n",
    "# invert\n",
    "thresh = 255 - thresh"
   ]
  },
  {
   "cell_type": "code",
   "execution_count": null,
   "id": "2a38a2bc",
   "metadata": {},
   "outputs": [],
   "source": [
    "# identify two columns to switch\n",
    "# copy paste a column into new column \n",
    "\n",
    "# get largest external contour\n",
    "contours = cv2.findContours(thresh, cv2.RETR_EXTERNAL, cv2.CHAIN_APPROX_SIMPLE)\n",
    "contours = contours[0] if len(contours) == 2 else contours[1]\n",
    "big_contour = max(contours, key=cv2.contourArea)\n",
    "\n",
    "# get bounding box of largest contour\n",
    "x, y, w, h = cv2.boundingRect(big_contour)\n",
    "\n",
    "# make that region white in the input image\n",
    "result = old_image.copy()\n",
    "result[y: y + h, x: x + w] = (255, 255, 255)\n",
    "    \n",
    "# show thresh and result    \n",
    "cv2.imshow(\"result\", result)\n",
    "cv2.waitKey(0)\n",
    "cv2.destroyAllWindows()\n",
    "\n",
    "# save resulting image\n",
    "cv2.imwrite('images_manipulated/' + old_file_path, result)"
   ]
  }
 ],
 "metadata": {
  "kernelspec": {
   "display_name": "Python 3 (ipykernel)",
   "language": "python",
   "name": "python3"
  },
  "language_info": {
   "codemirror_mode": {
    "name": "ipython",
    "version": 3
   },
   "file_extension": ".py",
   "mimetype": "text/x-python",
   "name": "python",
   "nbconvert_exporter": "python",
   "pygments_lexer": "ipython3",
   "version": "3.9.13"
  }
 },
 "nbformat": 4,
 "nbformat_minor": 5
}
