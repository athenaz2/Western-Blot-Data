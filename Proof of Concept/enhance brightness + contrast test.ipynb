{
 "cells": [
  {
   "cell_type": "code",
   "execution_count": 1,
   "id": "6e06dab2",
   "metadata": {},
   "outputs": [],
   "source": [
    "from PIL import Image, ImageEnhance\n",
    "import numpy as np\n",
    "import matplotlib.pyplot as plt \n",
    "import cv2"
   ]
  },
  {
   "cell_type": "code",
   "execution_count": 2,
   "id": "24b10dd8",
   "metadata": {},
   "outputs": [
    {
     "name": "stdout",
     "output_type": "stream",
     "text": [
      "File path: pone.0237759.s005 1.png\n"
     ]
    },
    {
     "data": {
      "text/plain": [
       "True"
      ]
     },
     "execution_count": 2,
     "metadata": {},
     "output_type": "execute_result"
    }
   ],
   "source": [
    "# file input, e.g. SCC25DDP_BMI1.jpg\n",
    "old_file_path = input(\"File path: \")\n",
    "old_image = cv2.imread(\"images_separated/\" + old_file_path)\n",
    "\n",
    "\n",
    "\n",
    "# convert from CV2 BGR to PIL RGB \n",
    "pil_image = Image.fromarray(cv2.cvtColor(old_image, cv2.COLOR_BGR2RGB))\n",
    "\n",
    "# enhance brightness of pil image\n",
    "pil_image = ImageEnhance.Brightness(pil_image).enhance(1.2)\n",
    "\n",
    "# enhance contrast of pil image\n",
    "pil_image = ImageEnhance.Contrast(pil_image).enhance(1.5)\n",
    "\n",
    "# convert from PIL RGB CV2 BGR\n",
    "cv_image = np.array(pil_image)\n",
    "\n",
    "\n",
    "\n",
    "# save resulting image\n",
    "cv2.imwrite('images_manipulated/' + old_file_path, cv_image)"
   ]
  }
 ],
 "metadata": {
  "kernelspec": {
   "display_name": "Python 3 (ipykernel)",
   "language": "python",
   "name": "python3"
  },
  "language_info": {
   "codemirror_mode": {
    "name": "ipython",
    "version": 3
   },
   "file_extension": ".py",
   "mimetype": "text/x-python",
   "name": "python",
   "nbconvert_exporter": "python",
   "pygments_lexer": "ipython3",
   "version": "3.9.13"
  }
 },
 "nbformat": 4,
 "nbformat_minor": 5
}
