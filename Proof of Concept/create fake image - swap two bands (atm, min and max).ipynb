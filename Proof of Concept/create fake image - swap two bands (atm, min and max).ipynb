{
 "cells": [
  {
   "cell_type": "code",
   "execution_count": 1,
   "id": "d867be1d",
   "metadata": {},
   "outputs": [],
   "source": [
    "# referenced https://stackoverflow.com/questions/70999910/how-to-detect-a-rectangle-block-from-an-image-and-change-it-to-white-color\n",
    "from PIL import Image, ImageEnhance\n",
    "import numpy as np\n",
    "import matplotlib.pyplot as plt \n",
    "import cv2"
   ]
  },
  {
   "cell_type": "code",
   "execution_count": 2,
   "id": "eb417922",
   "metadata": {},
   "outputs": [
    {
     "name": "stdout",
     "output_type": "stream",
     "text": [
      "File path: pone.0237759.s005 1.png\n"
     ]
    }
   ],
   "source": [
    "# file input, e.g. SCC25DDP_BMI1.jpg\n",
    "old_file_path = input(\"File path: \")\n",
    "old_image = cv2.imread(\"images_separated/\" + old_file_path)\n",
    "\n",
    "\n",
    "\n",
    "# convert from CV2 BGR to PIL RGB \n",
    "pil_image = Image.fromarray(cv2.cvtColor(old_image, cv2.COLOR_BGR2RGB))\n",
    "\n",
    "# enhance brightness of pil image\n",
    "pil_image = ImageEnhance.Brightness(pil_image).enhance(1.2)\n",
    "\n",
    "# enhance contrast of pil image\n",
    "pil_image = ImageEnhance.Contrast(pil_image).enhance(1.5)\n",
    "\n",
    "# convert from PIL RGB CV2 BGR\n",
    "cv_image = np.array(pil_image)\n",
    "\n",
    "\n",
    "\n",
    "# convert to grayscale\n",
    "gray = cv2.cvtColor(cv_image, cv2.COLOR_BGR2GRAY)\n",
    "\n",
    "# threshold 245\n",
    "thresh = cv2.threshold(gray, 250, 255, cv2.THRESH_BINARY)[1]\n",
    "\n",
    "# invert\n",
    "thresh = 255 - thresh"
   ]
  },
  {
   "cell_type": "code",
   "execution_count": 3,
   "id": "c1d00489",
   "metadata": {},
   "outputs": [],
   "source": [
    "# identify two columns to switch\n",
    "\n",
    "# get largest external contour\n",
    "contours = cv2.findContours(thresh, cv2.RETR_EXTERNAL, cv2.CHAIN_APPROX_SIMPLE)\n",
    "contours = contours[0] if len(contours) == 2 else contours[1]\n",
    "contour_1 = max(contours, key=cv2.contourArea)\n",
    "contour_2 = min(contours, key=cv2.contourArea)\n",
    "\n",
    "# identify the bounding box of two contours to switch positions of\n",
    "x0, y0, w0, h0 = cv2.boundingRect(contour_1);\n",
    "x1, y1, w1, h1 = cv2.boundingRect(contour_2);\n",
    "\n",
    "if w0 > w1:\n",
    "    w1 = w0\n",
    "else:\n",
    "    w0 = w1\n",
    "    \n",
    "if h0 > h1:\n",
    "    h1 = h0\n",
    "else:\n",
    "    h0 = h1"
   ]
  },
  {
   "cell_type": "code",
   "execution_count": 4,
   "id": "7a6d90d5",
   "metadata": {},
   "outputs": [
    {
     "data": {
      "text/plain": [
       "True"
      ]
     },
     "execution_count": 4,
     "metadata": {},
     "output_type": "execute_result"
    }
   ],
   "source": [
    "# swap the two columns in a new image\n",
    "new_image = cv_image.copy()\n",
    "new_image[y0: y0 + h0, x0: x0 + w0] = cv_image[y1: y1 + h1, x1: x1 + w1]\n",
    "new_image[y1: y1 + h1, x1: x1 + w1] = cv_image[y0: y0 + h0, x0: x0 + w0]\n",
    "\n",
    "# save resulting image\n",
    "cv2.imwrite('images_manipulated/' + old_file_path, new_image)\n",
    "    \n",
    "# show thresh and result    \n",
    "# cv2.imshow('images_manipulated/' + old_file_path, new_image)\n",
    "# cv2.waitKey(0)\n",
    "# cv2.destroyAllWindows()"
   ]
  }
 ],
 "metadata": {
  "kernelspec": {
   "display_name": "Python 3 (ipykernel)",
   "language": "python",
   "name": "python3"
  },
  "language_info": {
   "codemirror_mode": {
    "name": "ipython",
    "version": 3
   },
   "file_extension": ".py",
   "mimetype": "text/x-python",
   "name": "python",
   "nbconvert_exporter": "python",
   "pygments_lexer": "ipython3",
   "version": "3.9.13"
  }
 },
 "nbformat": 4,
 "nbformat_minor": 5
}
