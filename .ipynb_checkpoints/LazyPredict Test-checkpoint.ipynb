{
 "cells": [
  {
   "cell_type": "code",
   "execution_count": null,
   "id": "4ba92c74",
   "metadata": {},
   "outputs": [],
   "source": [
    "%%capture\n",
    "!pip install lightgbm --no-warn-script-location\n",
    "!pip install lazypredict --no-warn-script-location"
   ]
  },
  {
   "cell_type": "code",
   "execution_count": null,
   "id": "a7407fe7",
   "metadata": {},
   "outputs": [],
   "source": [
    "from lazypredict.Supervised import LazyClassifier, LazyRegressor\n",
    "from sklearn.model_selection import train_test_split"
   ]
  },
  {
   "cell_type": "code",
   "execution_count": null,
   "id": "bf84cfba",
   "metadata": {},
   "outputs": [],
   "source": [
    "# Referenced https://www.sharpsightlabs.com/blog/scikit-train_test_split/ \n",
    "# train_test_split(X, y, test_size=, random_state=) splits ML data into a training dataset and a test dataset\n",
    "# X = features of the input data\n",
    "# y = target/label vector of input data\n",
    "# test_size = size of the test dataset\n",
    "# random_state = a \"seed\" that initializes the pseudorandom number generator"
   ]
  },
  {
   "cell_type": "code",
   "execution_count": null,
   "id": "6176a1b3",
   "metadata": {},
   "outputs": [],
   "source": [
    "# (1) image classification stuff tutorial\n",
    "# Referenced https://kapernikov.com/tutorial-image-classification-with-scikit-learn/"
   ]
  },
  {
   "cell_type": "code",
   "execution_count": null,
   "id": "19dad18a",
   "metadata": {},
   "outputs": [],
   "source": [
    "# (2) lazy classifier stuff\n",
    "# Referenced https://lazypredict.readthedocs.io/en/latest/usage.html#classification\n"
   ]
  }
 ],
 "metadata": {
  "kernelspec": {
   "display_name": "Python 3 (ipykernel)",
   "language": "python",
   "name": "python3"
  },
  "language_info": {
   "codemirror_mode": {
    "name": "ipython",
    "version": 3
   },
   "file_extension": ".py",
   "mimetype": "text/x-python",
   "name": "python",
   "nbconvert_exporter": "python",
   "pygments_lexer": "ipython3",
   "version": "3.10.4"
  }
 },
 "nbformat": 4,
 "nbformat_minor": 5
}
