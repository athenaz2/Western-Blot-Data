{
 "cells": [
  {
   "cell_type": "markdown",
   "id": "1e2b0d93",
   "metadata": {},
   "source": [
    "### Import libraries"
   ]
  },
  {
   "cell_type": "code",
   "execution_count": 1,
   "id": "96185f66",
   "metadata": {},
   "outputs": [],
   "source": [
    "%%capture\n",
    "!pip install lightgbm --no-warn-script-location\n",
    "!pip install lazypredict --no-warn-script-location\n",
    "\n",
    "# import Lazy Predict classification library\n",
    "from lazypredict.Supervised import LazyClassifier, LazyRegressor\n",
    "from sklearn.model_selection import train_test_split\n",
    "\n",
    "# referenced code from [1] - [8] in https://kapernikov.com/tutorial-image-classification-with-scikit-learn/\n",
    "%matplotlib inline\n",
    "\n",
    "import matplotlib.pyplot as plt\n",
    "import numpy as np\n",
    "import os"
   ]
  },
  {
   "cell_type": "markdown",
   "id": "4b9332f2",
   "metadata": {},
   "source": [
    "### Prepare the data set"
   ]
  },
  {
   "cell_type": "code",
   "execution_count": 2,
   "id": "24583e25",
   "metadata": {},
   "outputs": [],
   "source": [
    "import joblib\n",
    "from skimage import io, color\n",
    "from skimage.transform import resize\n",
    "\n",
    "def resize_all(src, pklname, width=150, height=None):\n",
    "    \"\"\"\n",
    "    load images from path, resize them and write them as arrays to a dictionary, \n",
    "    together with labels and metadata. The dictionary is written to a pickle file \n",
    "    named '{pklname}_{width}x{height}px.pkl'.\n",
    "     \n",
    "    Parameter\n",
    "    ---------\n",
    "    src: str\n",
    "        path to data\n",
    "    pklname: str\n",
    "        path to output file\n",
    "    width: int\n",
    "        target width of the image in pixels\n",
    "    include: set[str]\n",
    "        set containing str\n",
    "    \"\"\"\n",
    "     \n",
    "    height = height if height is not None else width\n",
    "     \n",
    "    data = dict()\n",
    "    data['description'] = 'resized ({0}x{1})western blot images in rgb'.format(int(width), int(height))\n",
    "    data['label'] = []\n",
    "    data['filename'] = []\n",
    "    data['data'] = []   \n",
    "     \n",
    "    pklname = f\"{pklname}_{width}x{height}px.pkl\"\n",
    "    \n",
    "    # read all images in PATH, resize and write to DESTINATION_PATH\n",
    "    for file in os.listdir(src):\n",
    "        img_path = os.path.join(src, file)\n",
    "        im = io.imread(img_path)\n",
    "        im = resize(im, (width, height))\n",
    "        \n",
    "        #change color to greyscale?\n",
    "        length = len(im.shape)\n",
    "        \n",
    "        if length >= 3:\n",
    "            if length == 4:\n",
    "                im = im[..., 0]\n",
    "            \n",
    "            im = color.rgb2gray(im)\n",
    "            \n",
    "            \n",
    "        \n",
    "        data['label'].append(img_path[-8:-4])\n",
    "        data['filename'].append(img_path)\n",
    "        data['data'].append(im)\n",
    " \n",
    "        joblib.dump(data, pklname)"
   ]
  },
  {
   "cell_type": "code",
   "execution_count": 3,
   "id": "a408fdd1",
   "metadata": {},
   "outputs": [
    {
     "data": {
      "text/plain": [
       "['aTub_Lerit_Lab_2022-07-12_13h11m29s(Chemiluminescence)_mani.png',\n",
       " 'aTub_Lerit_Lab_2022-07-12_13h11m29s(Chemiluminescence)_orig.png',\n",
       " 'ECA_mani.png',\n",
       " 'ECA_orig.png',\n",
       " 'Figure2C--actin_mani.png',\n",
       " 'Figure2C--actin_orig.png',\n",
       " 'Figure2F_CD9+-actin_mani.png',\n",
       " 'Figure2F_CD9+-actin_orig.png',\n",
       " 'pone.0237759.s005_1_mani.png',\n",
       " 'pone.0237759.s005_1_orig.png',\n",
       " 'pone.0257259.s004_1_mani.png',\n",
       " 'pone.0257259.s004_1_orig.png',\n",
       " 'pone.0257259.s004_2_mani.png',\n",
       " 'pone.0257259.s004_2_orig.png',\n",
       " 'Raw_images_wetsern_blot_1_mani.png',\n",
       " 'Raw_images_wetsern_blot_1_orig.png',\n",
       " 'Raw_images_wetsern_blot_2_mani.png',\n",
       " 'Raw_images_wetsern_blot_2_orig.png',\n",
       " 'Raw_images_wetsern_blot_3_mani.png',\n",
       " 'Raw_images_wetsern_blot_3_orig.png',\n",
       " 'Raw_images_wetsern_blot_4_mani.png',\n",
       " 'Raw_images_wetsern_blot_4_orig.png',\n",
       " 'Raw_images_wetsern_blot_5_mani.png',\n",
       " 'Raw_images_wetsern_blot_5_orig.png',\n",
       " 'Raw_images_wetsern_blot_6_mani.png',\n",
       " 'Raw_images_wetsern_blot_6_orig.png',\n",
       " 'Raw_images_wetsern_blot_7_mani.png',\n",
       " 'Raw_images_wetsern_blot_7_orig.png',\n",
       " 'Raw_images_wetsern_blot_8_mani.png',\n",
       " 'Raw_images_wetsern_blot_8_orig.png',\n",
       " 'SCC25DDP_BMI1_mani.jpg',\n",
       " 'SCC25DDP_BMI1_orig.jpg',\n",
       " 'SCC25DDP_GAPDH_mani.jpg',\n",
       " 'SCC25DDP_GAPDH_orig.jpg',\n",
       " 'TSCCADDP_BMI1_mani.jpg',\n",
       " 'TSCCADDP_BMI1_orig.jpg',\n",
       " 'TSCCADDP_GAPDH_mani.jpg',\n",
       " 'TSCCADDP_GAPDH_orig.jpg',\n",
       " 'Western_blot_images_revised_COX-2_mani.png',\n",
       " 'Western_blot_images_revised_COX-2_orig.png',\n",
       " 'Western_blot_images_revised_GAPDH_mani.png',\n",
       " 'Western_blot_images_revised_GAPDH_orig.png',\n",
       " 'Western_blot_images_revised_pNF-kB_mani.png',\n",
       " 'Western_blot_images_revised_pNF-kB_orig.png',\n",
       " 'Western_blot_images_revised_TLR4_mani.png',\n",
       " 'Western_blot_images_revised_TLR4_orig.png',\n",
       " 'Western_blot_images_revised_tNF-kB_mani.png',\n",
       " 'Western_blot_images_revised_tNF-kB_orig.png']"
      ]
     },
     "execution_count": 3,
     "metadata": {},
     "output_type": "execute_result"
    }
   ],
   "source": [
    "data_path = r'C:\\Users\\athenaz2\\Documents\\Western-Blot-Data\\Images'\n",
    "os.listdir(data_path)"
   ]
  },
  {
   "cell_type": "code",
   "execution_count": 4,
   "id": "02f0808e",
   "metadata": {},
   "outputs": [
    {
     "ename": "ValueError",
     "evalue": "the input array must have size 3 along `channel_axis`, got (312, 312, 4)",
     "output_type": "error",
     "traceback": [
      "\u001b[1;31m---------------------------------------------------------------------------\u001b[0m",
      "\u001b[1;31mValueError\u001b[0m                                Traceback (most recent call last)",
      "Cell \u001b[1;32mIn[4], line 4\u001b[0m\n\u001b[0;32m      1\u001b[0m base_name \u001b[38;5;241m=\u001b[39m \u001b[38;5;124m'\u001b[39m\u001b[38;5;124mwb_img\u001b[39m\u001b[38;5;124m'\u001b[39m\n\u001b[0;32m      2\u001b[0m width \u001b[38;5;241m=\u001b[39m \u001b[38;5;241m312\u001b[39m \n\u001b[1;32m----> 4\u001b[0m \u001b[43mresize_all\u001b[49m\u001b[43m(\u001b[49m\u001b[43msrc\u001b[49m\u001b[43m \u001b[49m\u001b[38;5;241;43m=\u001b[39;49m\u001b[43m \u001b[49m\u001b[43mdata_path\u001b[49m\u001b[43m,\u001b[49m\u001b[43m \u001b[49m\u001b[43mpklname\u001b[49m\u001b[43m \u001b[49m\u001b[38;5;241;43m=\u001b[39;49m\u001b[43m \u001b[49m\u001b[43mbase_name\u001b[49m\u001b[43m,\u001b[49m\u001b[43m \u001b[49m\u001b[43mwidth\u001b[49m\u001b[43m \u001b[49m\u001b[38;5;241;43m=\u001b[39;49m\u001b[43m \u001b[49m\u001b[43mwidth\u001b[49m\u001b[43m)\u001b[49m\n\u001b[0;32m      6\u001b[0m data \u001b[38;5;241m=\u001b[39m joblib\u001b[38;5;241m.\u001b[39mload(\u001b[38;5;124mf\u001b[39m\u001b[38;5;124m'\u001b[39m\u001b[38;5;132;01m{\u001b[39;00mbase_name\u001b[38;5;132;01m}\u001b[39;00m\u001b[38;5;124m_\u001b[39m\u001b[38;5;132;01m{\u001b[39;00mwidth\u001b[38;5;132;01m}\u001b[39;00m\u001b[38;5;124mx\u001b[39m\u001b[38;5;132;01m{\u001b[39;00mwidth\u001b[38;5;132;01m}\u001b[39;00m\u001b[38;5;124mpx.pkl\u001b[39m\u001b[38;5;124m'\u001b[39m)\n",
      "Cell \u001b[1;32mIn[2], line 46\u001b[0m, in \u001b[0;36mresize_all\u001b[1;34m(src, pklname, width, height)\u001b[0m\n\u001b[0;32m     43\u001b[0m     \u001b[38;5;28;01mif\u001b[39;00m length \u001b[38;5;241m==\u001b[39m \u001b[38;5;241m4\u001b[39m:\n\u001b[0;32m     44\u001b[0m         im \u001b[38;5;241m=\u001b[39m im[\u001b[38;5;241m.\u001b[39m\u001b[38;5;241m.\u001b[39m\u001b[38;5;241m.\u001b[39m, \u001b[38;5;241m0\u001b[39m]\n\u001b[1;32m---> 46\u001b[0m     im \u001b[38;5;241m=\u001b[39m \u001b[43mcolor\u001b[49m\u001b[38;5;241;43m.\u001b[39;49m\u001b[43mrgb2gray\u001b[49m\u001b[43m(\u001b[49m\u001b[43mim\u001b[49m\u001b[43m)\u001b[49m\n\u001b[0;32m     48\u001b[0m data[\u001b[38;5;124m'\u001b[39m\u001b[38;5;124mlabel\u001b[39m\u001b[38;5;124m'\u001b[39m]\u001b[38;5;241m.\u001b[39mappend(img_path[\u001b[38;5;241m-\u001b[39m\u001b[38;5;241m8\u001b[39m:\u001b[38;5;241m-\u001b[39m\u001b[38;5;241m4\u001b[39m])\n\u001b[0;32m     49\u001b[0m data[\u001b[38;5;124m'\u001b[39m\u001b[38;5;124mfilename\u001b[39m\u001b[38;5;124m'\u001b[39m]\u001b[38;5;241m.\u001b[39mappend(img_path)\n",
      "File \u001b[1;32m~\\AppData\\Roaming\\Python\\Python310\\site-packages\\skimage\\_shared\\utils.py:326\u001b[0m, in \u001b[0;36mchannel_as_last_axis.__call__.<locals>.fixed_func\u001b[1;34m(*args, **kwargs)\u001b[0m\n\u001b[0;32m    323\u001b[0m channel_axis \u001b[38;5;241m=\u001b[39m kwargs\u001b[38;5;241m.\u001b[39mget(\u001b[38;5;124m'\u001b[39m\u001b[38;5;124mchannel_axis\u001b[39m\u001b[38;5;124m'\u001b[39m, \u001b[38;5;28;01mNone\u001b[39;00m)\n\u001b[0;32m    325\u001b[0m \u001b[38;5;28;01mif\u001b[39;00m channel_axis \u001b[38;5;129;01mis\u001b[39;00m \u001b[38;5;28;01mNone\u001b[39;00m:\n\u001b[1;32m--> 326\u001b[0m     \u001b[38;5;28;01mreturn\u001b[39;00m func(\u001b[38;5;241m*\u001b[39margs, \u001b[38;5;241m*\u001b[39m\u001b[38;5;241m*\u001b[39mkwargs)\n\u001b[0;32m    328\u001b[0m \u001b[38;5;66;03m# TODO: convert scalars to a tuple in anticipation of eventually\u001b[39;00m\n\u001b[0;32m    329\u001b[0m \u001b[38;5;66;03m#       supporting a tuple of channel axes. Right now, only an\u001b[39;00m\n\u001b[0;32m    330\u001b[0m \u001b[38;5;66;03m#       integer or a single-element tuple is supported, though.\u001b[39;00m\n\u001b[0;32m    331\u001b[0m \u001b[38;5;28;01mif\u001b[39;00m np\u001b[38;5;241m.\u001b[39misscalar(channel_axis):\n",
      "File \u001b[1;32m~\\AppData\\Roaming\\Python\\Python310\\site-packages\\skimage\\color\\colorconv.py:875\u001b[0m, in \u001b[0;36mrgb2gray\u001b[1;34m(rgb, channel_axis)\u001b[0m\n\u001b[0;32m    834\u001b[0m \u001b[38;5;129m@channel_as_last_axis\u001b[39m(multichannel_output\u001b[38;5;241m=\u001b[39m\u001b[38;5;28;01mFalse\u001b[39;00m)\n\u001b[0;32m    835\u001b[0m \u001b[38;5;28;01mdef\u001b[39;00m \u001b[38;5;21mrgb2gray\u001b[39m(rgb, \u001b[38;5;241m*\u001b[39m, channel_axis\u001b[38;5;241m=\u001b[39m\u001b[38;5;241m-\u001b[39m\u001b[38;5;241m1\u001b[39m):\n\u001b[0;32m    836\u001b[0m \u001b[38;5;250m    \u001b[39m\u001b[38;5;124;03m\"\"\"Compute luminance of an RGB image.\u001b[39;00m\n\u001b[0;32m    837\u001b[0m \n\u001b[0;32m    838\u001b[0m \u001b[38;5;124;03m    Parameters\u001b[39;00m\n\u001b[1;32m   (...)\u001b[0m\n\u001b[0;32m    873\u001b[0m \u001b[38;5;124;03m    >>> img_gray = rgb2gray(img)\u001b[39;00m\n\u001b[0;32m    874\u001b[0m \u001b[38;5;124;03m    \"\"\"\u001b[39;00m\n\u001b[1;32m--> 875\u001b[0m     rgb \u001b[38;5;241m=\u001b[39m \u001b[43m_prepare_colorarray\u001b[49m\u001b[43m(\u001b[49m\u001b[43mrgb\u001b[49m\u001b[43m)\u001b[49m\n\u001b[0;32m    876\u001b[0m     coeffs \u001b[38;5;241m=\u001b[39m np\u001b[38;5;241m.\u001b[39marray([\u001b[38;5;241m0.2125\u001b[39m, \u001b[38;5;241m0.7154\u001b[39m, \u001b[38;5;241m0.0721\u001b[39m], dtype\u001b[38;5;241m=\u001b[39mrgb\u001b[38;5;241m.\u001b[39mdtype)\n\u001b[0;32m    877\u001b[0m     \u001b[38;5;28;01mreturn\u001b[39;00m rgb \u001b[38;5;241m@\u001b[39m coeffs\n",
      "File \u001b[1;32m~\\AppData\\Roaming\\Python\\Python310\\site-packages\\skimage\\color\\colorconv.py:140\u001b[0m, in \u001b[0;36m_prepare_colorarray\u001b[1;34m(arr, force_copy, channel_axis)\u001b[0m\n\u001b[0;32m    137\u001b[0m \u001b[38;5;28;01mif\u001b[39;00m arr\u001b[38;5;241m.\u001b[39mshape[channel_axis] \u001b[38;5;241m!=\u001b[39m \u001b[38;5;241m3\u001b[39m:\n\u001b[0;32m    138\u001b[0m     msg \u001b[38;5;241m=\u001b[39m (\u001b[38;5;124mf\u001b[39m\u001b[38;5;124m'\u001b[39m\u001b[38;5;124mthe input array must have size 3 along `channel_axis`, \u001b[39m\u001b[38;5;124m'\u001b[39m\n\u001b[0;32m    139\u001b[0m            \u001b[38;5;124mf\u001b[39m\u001b[38;5;124m'\u001b[39m\u001b[38;5;124mgot \u001b[39m\u001b[38;5;132;01m{\u001b[39;00marr\u001b[38;5;241m.\u001b[39mshape\u001b[38;5;132;01m}\u001b[39;00m\u001b[38;5;124m'\u001b[39m)\n\u001b[1;32m--> 140\u001b[0m     \u001b[38;5;28;01mraise\u001b[39;00m \u001b[38;5;167;01mValueError\u001b[39;00m(msg)\n\u001b[0;32m    142\u001b[0m float_dtype \u001b[38;5;241m=\u001b[39m _supported_float_type(arr\u001b[38;5;241m.\u001b[39mdtype)\n\u001b[0;32m    143\u001b[0m \u001b[38;5;28;01mif\u001b[39;00m float_dtype \u001b[38;5;241m==\u001b[39m np\u001b[38;5;241m.\u001b[39mfloat32:\n",
      "\u001b[1;31mValueError\u001b[0m: the input array must have size 3 along `channel_axis`, got (312, 312, 4)"
     ]
    }
   ],
   "source": [
    "base_name = 'wb_img'\n",
    "width = 312 \n",
    "\n",
    "resize_all(src = data_path, pklname = base_name, width = width)\n",
    "\n",
    "data = joblib.load(f'{base_name}_{width}x{width}px.pkl')"
   ]
  },
  {
   "cell_type": "code",
   "execution_count": null,
   "id": "70153524",
   "metadata": {},
   "outputs": [],
   "source": [
    "from collections import Counter\n",
    " \n",
    "print('number of samples: ', len(data['data']))\n",
    "print('keys: ', list(data.keys()))\n",
    "print('description: ', data['description'])\n",
    "print('image shape: ', data['data'][0].shape)\n",
    "print('labels:', np.unique(data['label']))\n",
    " \n",
    "Counter(data['label'])"
   ]
  },
  {
   "cell_type": "code",
   "execution_count": null,
   "id": "bb0f674b",
   "metadata": {},
   "outputs": [],
   "source": [
    "#print(data['data'][0].shape)\n",
    "\n",
    "for i in range(0, len(data['data'])):\n",
    "    for j in range(0, len(data['data'][i])):\n",
    "        for k in range(0, len(data['data'][i][j])):\n",
    "            if len(data['data'][i][j][k]) == 4:\n",
    "                #data['data'][i][j][k][3]\n",
    "                print('hi')\n",
    "         \n",
    "                \n",
    "print(len(data['data']), len(data['data'][0]), len(data['data'][0][0]), len(data['data'][0][0][0]))"
   ]
  },
  {
   "cell_type": "code",
   "execution_count": null,
   "id": "96d56458",
   "metadata": {},
   "outputs": [],
   "source": [
    "# use np.unique to get all unique values in the list of labels\n",
    "labels = np.unique(data['label'])\n",
    " \n",
    "# set up the matplotlib figure and axes, based on the number of labels\n",
    "fig, axes = plt.subplots(1, len(labels))\n",
    "fig.set_size_inches(15,4)\n",
    "fig.tight_layout()\n",
    " \n",
    "# make a plot for every label (equipment) type. The index method returns the \n",
    "# index of the first item corresponding to its search string, label in this case\n",
    "for ax, label in zip(axes, labels):\n",
    "    idx = data['label'].index(label)\n",
    "     \n",
    "    ax.imshow(data['data'][idx])\n",
    "    ax.axis('off')\n",
    "    ax.set_title(label)"
   ]
  },
  {
   "cell_type": "code",
   "execution_count": null,
   "id": "768f25d6",
   "metadata": {},
   "outputs": [],
   "source": [
    "# input data X\n",
    "X = np.array(data['data'])\n",
    "# results (labels)\n",
    "y = np.array(data['label'])"
   ]
  },
  {
   "cell_type": "code",
   "execution_count": null,
   "id": "a1585260",
   "metadata": {},
   "outputs": [],
   "source": [
    "from sklearn.model_selection import train_test_split\n",
    " \n",
    "X_train, X_test, y_train, y_test = train_test_split(\n",
    "    X, \n",
    "    y, \n",
    "    test_size=0.2, \n",
    "    shuffle=True,\n",
    "    random_state=2,\n",
    ")"
   ]
  },
  {
   "cell_type": "code",
   "execution_count": null,
   "id": "3b619bbe",
   "metadata": {},
   "outputs": [],
   "source": []
  }
 ],
 "metadata": {
  "kernelspec": {
   "display_name": "Python 3 (ipykernel)",
   "language": "python",
   "name": "python3"
  },
  "language_info": {
   "codemirror_mode": {
    "name": "ipython",
    "version": 3
   },
   "file_extension": ".py",
   "mimetype": "text/x-python",
   "name": "python",
   "nbconvert_exporter": "python",
   "pygments_lexer": "ipython3",
   "version": "3.10.4"
  }
 },
 "nbformat": 4,
 "nbformat_minor": 5
}
