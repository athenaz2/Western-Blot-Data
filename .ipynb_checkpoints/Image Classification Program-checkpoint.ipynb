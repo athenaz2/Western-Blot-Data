{
 "cells": [
  {
   "cell_type": "markdown",
   "id": "1e2b0d93",
   "metadata": {},
   "source": [
    "### Import libraries"
   ]
  },
  {
   "cell_type": "code",
   "execution_count": 1,
   "id": "96185f66",
   "metadata": {},
   "outputs": [],
   "source": [
    "%%capture\n",
    "!pip install lightgbm --no-warn-script-location\n",
    "!pip install lazypredict --no-warn-script-location"
   ]
  },
  {
   "cell_type": "code",
   "execution_count": 11,
   "id": "8ec7ee72",
   "metadata": {},
   "outputs": [],
   "source": [
    "# import Lazy Predict classification library\n",
    "from lazypredict.Supervised import LazyClassifier, LazyRegressor\n",
    "from sklearn.model_selection import train_test_split\n",
    "\n",
    "import os"
   ]
  },
  {
   "cell_type": "markdown",
   "id": "4b9332f2",
   "metadata": {},
   "source": [
    "### Prepare the Dataset"
   ]
  },
  {
   "cell_type": "code",
   "execution_count": 12,
   "id": "a408fdd1",
   "metadata": {},
   "outputs": [
    {
     "name": "stdout",
     "output_type": "stream",
     "text": [
      "mani\n"
     ]
    }
   ],
   "source": [
    "data_path = fr'{os.getenv(\"HOME\")}\\Users\\athenaz2\\Documents\\Western-Blot-Data\\Images\\aTub_Lerit_Lab_2022-07-12_13h11m29s(Chemiluminescence)_mani.png'\n",
    "print(data_path[-8:-4])"
   ]
  },
  {
   "cell_type": "code",
   "execution_count": null,
   "id": "24583e25",
   "metadata": {},
   "outputs": [],
   "source": []
  }
 ],
 "metadata": {
  "kernelspec": {
   "display_name": "Python 3 (ipykernel)",
   "language": "python",
   "name": "python3"
  },
  "language_info": {
   "codemirror_mode": {
    "name": "ipython",
    "version": 3
   },
   "file_extension": ".py",
   "mimetype": "text/x-python",
   "name": "python",
   "nbconvert_exporter": "python",
   "pygments_lexer": "ipython3",
   "version": "3.10.4"
  }
 },
 "nbformat": 4,
 "nbformat_minor": 5
}
