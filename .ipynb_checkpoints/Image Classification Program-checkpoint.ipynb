{
 "cells": [
  {
   "cell_type": "markdown",
   "id": "4b9332f2",
   "metadata": {},
   "source": [
    "### Prepare the data set"
   ]
  },
  {
   "cell_type": "code",
   "execution_count": 1,
   "id": "96185f66",
   "metadata": {},
   "outputs": [],
   "source": [
    "%%capture\n",
    "!pip install lightgbm --no-warn-script-location\n",
    "!pip install lazypredict --no-warn-script-location\n",
    "\n",
    "# referenced code from [1] - [8] in https://kapernikov.com/tutorial-image-classification-with-scikit-learn/\n",
    "%matplotlib inline\n",
    "\n",
    "import matplotlib.pyplot as plt\n",
    "import numpy as np\n",
    "import os"
   ]
  },
  {
   "cell_type": "code",
   "execution_count": 2,
   "id": "24583e25",
   "metadata": {},
   "outputs": [],
   "source": [
    "import joblib\n",
    "from skimage import io, color\n",
    "from skimage.transform import resize\n",
    "\n",
    "def resize_all(src, pklname, width=150, height=None):\n",
    "    \"\"\"\n",
    "    load images from path, resize them and write them as arrays to a dictionary, \n",
    "    together with labels and metadata. The dictionary is written to a pickle file \n",
    "    named '{pklname}_{width}x{height}px.pkl'.\n",
    "     \n",
    "    Parameter\n",
    "    ---------\n",
    "    src: str\n",
    "        path to data\n",
    "    pklname: str\n",
    "        path to output file\n",
    "    width: int\n",
    "        target width of the image in pixels\n",
    "    include: set[str]\n",
    "        set containing str\n",
    "    \"\"\"\n",
    "     \n",
    "    height = height if height is not None else width\n",
    "     \n",
    "    data = dict()\n",
    "    data['description'] = 'resized ({0}x{1})western blot images in rgb'.format(int(width), int(height))\n",
    "    data['label'] = []\n",
    "    data['filename'] = []\n",
    "    data['data'] = []   \n",
    "     \n",
    "    pklname = f\"{pklname}_{width}x{height}px.pkl\"\n",
    "    \n",
    "    # read all images in PATH, resize and write to DESTINATION_PATH\n",
    "    for file in os.listdir(src):\n",
    "        img_path = os.path.join(src, file)\n",
    "        im = io.imread(img_path)\n",
    "        im = resize(im, (width, height))\n",
    "        data['label'].append(img_path[-8:-4])\n",
    "        data['filename'].append(img_path)\n",
    "        data['data'].append(im)\n",
    " \n",
    "        joblib.dump(data, pklname)"
   ]
  },
  {
   "cell_type": "markdown",
   "id": "4917df3d",
   "metadata": {},
   "source": [
    "### List of images used (48)"
   ]
  },
  {
   "cell_type": "code",
   "execution_count": 3,
   "id": "a408fdd1",
   "metadata": {},
   "outputs": [
    {
     "data": {
      "text/plain": [
       "['aTub_Lerit_Lab_2022-07-12_13h11m29s(Chemiluminescence)_mani.png',\n",
       " 'aTub_Lerit_Lab_2022-07-12_13h11m29s(Chemiluminescence)_orig.png',\n",
       " 'ECA_mani.png',\n",
       " 'ECA_orig.png',\n",
       " 'Figure2C--actin_mani.png',\n",
       " 'Figure2C--actin_orig.png',\n",
       " 'Figure2F_CD9+-actin_mani.png',\n",
       " 'Figure2F_CD9+-actin_orig.png',\n",
       " 'pone.0237759.s005_1_mani.png',\n",
       " 'pone.0237759.s005_1_orig.png',\n",
       " 'pone.0257259.s004_1_mani.png',\n",
       " 'pone.0257259.s004_1_orig.png',\n",
       " 'pone.0257259.s004_2_mani.png',\n",
       " 'pone.0257259.s004_2_orig.png',\n",
       " 'Raw_images_wetsern_blot_1_mani.png',\n",
       " 'Raw_images_wetsern_blot_1_orig.png',\n",
       " 'Raw_images_wetsern_blot_2_mani.png',\n",
       " 'Raw_images_wetsern_blot_2_orig.png',\n",
       " 'Raw_images_wetsern_blot_3_mani.png',\n",
       " 'Raw_images_wetsern_blot_3_orig.png',\n",
       " 'Raw_images_wetsern_blot_4_mani.png',\n",
       " 'Raw_images_wetsern_blot_4_orig.png',\n",
       " 'Raw_images_wetsern_blot_5_mani.png',\n",
       " 'Raw_images_wetsern_blot_5_orig.png',\n",
       " 'Raw_images_wetsern_blot_6_mani.png',\n",
       " 'Raw_images_wetsern_blot_6_orig.png',\n",
       " 'Raw_images_wetsern_blot_7_mani.png',\n",
       " 'Raw_images_wetsern_blot_7_orig.png',\n",
       " 'Raw_images_wetsern_blot_8_mani.png',\n",
       " 'Raw_images_wetsern_blot_8_orig.png',\n",
       " 'SCC25DDP_BMI1_mani.jpg',\n",
       " 'SCC25DDP_BMI1_orig.jpg',\n",
       " 'SCC25DDP_GAPDH_mani.jpg',\n",
       " 'SCC25DDP_GAPDH_orig.jpg',\n",
       " 'TSCCADDP_BMI1_mani.jpg',\n",
       " 'TSCCADDP_BMI1_orig.jpg',\n",
       " 'TSCCADDP_GAPDH_mani.jpg',\n",
       " 'TSCCADDP_GAPDH_orig.jpg',\n",
       " 'Western_blot_images_revised_COX-2_mani.png',\n",
       " 'Western_blot_images_revised_COX-2_orig.png',\n",
       " 'Western_blot_images_revised_GAPDH_mani.png',\n",
       " 'Western_blot_images_revised_GAPDH_orig.png',\n",
       " 'Western_blot_images_revised_pNF-kB_mani.png',\n",
       " 'Western_blot_images_revised_pNF-kB_orig.png',\n",
       " 'Western_blot_images_revised_TLR4_mani.png',\n",
       " 'Western_blot_images_revised_TLR4_orig.png',\n",
       " 'Western_blot_images_revised_tNF-kB_mani.png',\n",
       " 'Western_blot_images_revised_tNF-kB_orig.png']"
      ]
     },
     "execution_count": 3,
     "metadata": {},
     "output_type": "execute_result"
    }
   ],
   "source": [
    "data_path = r'C:\\Users\\athenaz2\\Documents\\Western-Blot-Data\\Images'\n",
    "os.listdir(data_path)"
   ]
  },
  {
   "cell_type": "markdown",
   "id": "3fee569e",
   "metadata": {},
   "source": [
    "### Resize all images"
   ]
  },
  {
   "cell_type": "code",
   "execution_count": 4,
   "id": "853aba26",
   "metadata": {},
   "outputs": [],
   "source": [
    "base_name = 'wb_img'\n",
    "width = 312 \n",
    "\n",
    "resize_all(src = data_path, pklname = base_name, width = width)"
   ]
  },
  {
   "cell_type": "markdown",
   "id": "d97d5066",
   "metadata": {},
   "source": [
    "### Summary of image data"
   ]
  },
  {
   "cell_type": "code",
   "execution_count": 5,
   "id": "70153524",
   "metadata": {},
   "outputs": [
    {
     "name": "stdout",
     "output_type": "stream",
     "text": [
      "number of samples:  48\n",
      "keys:  ['description', 'label', 'filename', 'data']\n",
      "description:  resized (312x312)western blot images in rgb\n",
      "image shape:  (312, 312)\n",
      "labels: ['mani' 'orig']\n"
     ]
    },
    {
     "data": {
      "text/plain": [
       "Counter({'mani': 24, 'orig': 24})"
      ]
     },
     "execution_count": 5,
     "metadata": {},
     "output_type": "execute_result"
    }
   ],
   "source": [
    "from collections import Counter\n",
    " \n",
    "data = joblib.load(f'{base_name}_{width}x{width}px.pkl')\n",
    "    \n",
    "print('number of samples: ', len(data['data']))\n",
    "print('keys: ', list(data.keys()))\n",
    "print('description: ', data['description'])\n",
    "print('image shape: ', data['data'][0].shape)\n",
    "print('labels:', np.unique(data['label']))\n",
    " \n",
    "Counter(data['label'])"
   ]
  },
  {
   "cell_type": "code",
   "execution_count": 6,
   "id": "96d56458",
   "metadata": {},
   "outputs": [
    {
     "data": {
      "image/png": "[encoded data removed]",
      "text/plain": [
       "<Figure size 1500x400 with 2 Axes>"
      ]
     },
     "metadata": {},
     "output_type": "display_data"
    }
   ],
   "source": [
    "# use np.unique to get all unique values in the list of labels\n",
    "labels = np.unique(data['label'])\n",
    " \n",
    "# set up the matplotlib figure and axes, based on the number of labels\n",
    "fig, axes = plt.subplots(1, len(labels))\n",
    "fig.set_size_inches(15,4)\n",
    "fig.tight_layout()\n",
    " \n",
    "# make a plot for every label (equipment) type. The index method returns the \n",
    "# index of the first item corresponding to its search string, label in this case\n",
    "for ax, label in zip(axes, labels):\n",
    "    idx = data['label'].index(label)\n",
    "     \n",
    "    ax.imshow(data['data'][idx])\n",
    "    ax.axis('off')\n",
    "    ax.set_title(label)\n",
    "    \n",
    "# for i in range(0, len(data['data'])):\n",
    "#     io.imshow(data['data'][i])\n",
    "#     plt.show()"
   ]
  },
  {
   "cell_type": "markdown",
   "id": "5810121b",
   "metadata": {},
   "source": [
    "### Split data into test set and training set"
   ]
  },
  {
   "cell_type": "code",
   "execution_count": 7,
   "id": "768f25d6",
   "metadata": {},
   "outputs": [],
   "source": [
    "# import Lazy Predict classification library\n",
    "from lazypredict.Supervised import LazyClassifier, LazyRegressor\n",
    "from sklearn.model_selection import train_test_split\n",
    "\n",
    "# input data X\n",
    "X = np.array(data['data'])\n",
    "# results (labels)\n",
    "y = np.array(data['label'])"
   ]
  },
  {
   "cell_type": "code",
   "execution_count": 8,
   "id": "fe79a4e2",
   "metadata": {},
   "outputs": [],
   "source": [
    "from sklearn.model_selection import train_test_split\n",
    " \n",
    "X_train, X_test, y_train, y_test = train_test_split(\n",
    "    X, \n",
    "    y, \n",
    "    test_size=0.5, \n",
    "#    shuffle=True,\n",
    "    random_state=42,\n",
    ")"
   ]
  },
  {
   "cell_type": "code",
   "execution_count": 15,
   "id": "7648cd33",
   "metadata": {},
   "outputs": [
    {
     "name": "stdout",
     "output_type": "stream",
     "text": [
      "48\n",
      "(312, 312)\n",
      "(312, 312)\n",
      "(312, 312)\n",
      "(312, 312)\n",
      "(312, 312)\n",
      "(312, 312)\n",
      "(312, 312)\n",
      "(312, 312)\n",
      "(312, 312)\n",
      "(312, 312)\n",
      "(312, 312)\n",
      "(312, 312)\n",
      "(312, 312)\n",
      "(312, 312)\n",
      "(312, 312)\n",
      "(312, 312)\n",
      "(312, 312)\n",
      "(312, 312)\n",
      "(312, 312)\n",
      "(312, 312)\n",
      "(312, 312)\n",
      "(312, 312)\n",
      "(312, 312)\n",
      "(312, 312)\n",
      "(312, 312)\n",
      "(312, 312)\n",
      "(312, 312)\n",
      "(312, 312)\n",
      "(312, 312)\n",
      "(312, 312)\n",
      "(312, 312)\n",
      "(312, 312)\n",
      "(312, 312)\n",
      "(312, 312)\n",
      "(312, 312)\n",
      "(312, 312)\n",
      "(312, 312)\n",
      "(312, 312)\n",
      "(312, 312)\n",
      "(312, 312)\n",
      "(312, 312)\n",
      "(312, 312)\n",
      "(312, 312)\n",
      "(312, 312)\n",
      "(312, 312)\n",
      "(312, 312)\n",
      "(312, 312)\n",
      "(312, 312)\n"
     ]
    }
   ],
   "source": [
    "print(len(data['data']))\n",
    "\n",
    "for i in range(0, len(data['data'])):\n",
    "    print(data['data'][i].shape)"
   ]
  },
  {
   "cell_type": "markdown",
   "id": "60c69d76",
   "metadata": {},
   "source": [
    "### Classify dataset with LazyPredict"
   ]
  },
  {
   "cell_type": "code",
   "execution_count": 9,
   "id": "c410e0fd",
   "metadata": {},
   "outputs": [
    {
     "ename": "ValueError",
     "evalue": "Must pass 2-d input. shape=(24, 312, 312)",
     "output_type": "error",
     "traceback": [
      "\u001b[1;31m---------------------------------------------------------------------------\u001b[0m",
      "\u001b[1;31mValueError\u001b[0m                                Traceback (most recent call last)",
      "Cell \u001b[1;32mIn[9], line 2\u001b[0m\n\u001b[0;32m      1\u001b[0m clf \u001b[38;5;241m=\u001b[39m LazyClassifier(verbose\u001b[38;5;241m=\u001b[39m\u001b[38;5;241m0\u001b[39m,ignore_warnings\u001b[38;5;241m=\u001b[39m\u001b[38;5;28;01mTrue\u001b[39;00m, custom_metric\u001b[38;5;241m=\u001b[39m\u001b[38;5;28;01mNone\u001b[39;00m)\n\u001b[1;32m----> 2\u001b[0m models,predictions \u001b[38;5;241m=\u001b[39m \u001b[43mclf\u001b[49m\u001b[38;5;241;43m.\u001b[39;49m\u001b[43mfit\u001b[49m\u001b[43m(\u001b[49m\u001b[43mX_train\u001b[49m\u001b[43m,\u001b[49m\u001b[43m \u001b[49m\u001b[43mX_test\u001b[49m\u001b[43m,\u001b[49m\u001b[43m \u001b[49m\u001b[43my_train\u001b[49m\u001b[43m,\u001b[49m\u001b[43m \u001b[49m\u001b[43my_test\u001b[49m\u001b[43m)\u001b[49m\n\u001b[0;32m      3\u001b[0m models\n",
      "File \u001b[1;32m~\\AppData\\Roaming\\Python\\Python310\\site-packages\\lazypredict\\Supervised.py:257\u001b[0m, in \u001b[0;36mLazyClassifier.fit\u001b[1;34m(self, X_train, X_test, y_train, y_test)\u001b[0m\n\u001b[0;32m    254\u001b[0m     CUSTOM_METRIC \u001b[38;5;241m=\u001b[39m []\n\u001b[0;32m    256\u001b[0m \u001b[38;5;28;01mif\u001b[39;00m \u001b[38;5;28misinstance\u001b[39m(X_train, np\u001b[38;5;241m.\u001b[39mndarray):\n\u001b[1;32m--> 257\u001b[0m     X_train \u001b[38;5;241m=\u001b[39m \u001b[43mpd\u001b[49m\u001b[38;5;241;43m.\u001b[39;49m\u001b[43mDataFrame\u001b[49m\u001b[43m(\u001b[49m\u001b[43mX_train\u001b[49m\u001b[43m)\u001b[49m\n\u001b[0;32m    258\u001b[0m     X_test \u001b[38;5;241m=\u001b[39m pd\u001b[38;5;241m.\u001b[39mDataFrame(X_test)\n\u001b[0;32m    260\u001b[0m numeric_features \u001b[38;5;241m=\u001b[39m X_train\u001b[38;5;241m.\u001b[39mselect_dtypes(include\u001b[38;5;241m=\u001b[39m[np\u001b[38;5;241m.\u001b[39mnumber])\u001b[38;5;241m.\u001b[39mcolumns\n",
      "File \u001b[1;32m~\\AppData\\Roaming\\Python\\Python310\\site-packages\\pandas\\core\\frame.py:722\u001b[0m, in \u001b[0;36mDataFrame.__init__\u001b[1;34m(self, data, index, columns, dtype, copy)\u001b[0m\n\u001b[0;32m    712\u001b[0m         mgr \u001b[38;5;241m=\u001b[39m dict_to_mgr(\n\u001b[0;32m    713\u001b[0m             \u001b[38;5;66;03m# error: Item \"ndarray\" of \"Union[ndarray, Series, Index]\" has no\u001b[39;00m\n\u001b[0;32m    714\u001b[0m             \u001b[38;5;66;03m# attribute \"name\"\u001b[39;00m\n\u001b[1;32m   (...)\u001b[0m\n\u001b[0;32m    719\u001b[0m             typ\u001b[38;5;241m=\u001b[39mmanager,\n\u001b[0;32m    720\u001b[0m         )\n\u001b[0;32m    721\u001b[0m     \u001b[38;5;28;01melse\u001b[39;00m:\n\u001b[1;32m--> 722\u001b[0m         mgr \u001b[38;5;241m=\u001b[39m \u001b[43mndarray_to_mgr\u001b[49m\u001b[43m(\u001b[49m\n\u001b[0;32m    723\u001b[0m \u001b[43m            \u001b[49m\u001b[43mdata\u001b[49m\u001b[43m,\u001b[49m\n\u001b[0;32m    724\u001b[0m \u001b[43m            \u001b[49m\u001b[43mindex\u001b[49m\u001b[43m,\u001b[49m\n\u001b[0;32m    725\u001b[0m \u001b[43m            \u001b[49m\u001b[43mcolumns\u001b[49m\u001b[43m,\u001b[49m\n\u001b[0;32m    726\u001b[0m \u001b[43m            \u001b[49m\u001b[43mdtype\u001b[49m\u001b[38;5;241;43m=\u001b[39;49m\u001b[43mdtype\u001b[49m\u001b[43m,\u001b[49m\n\u001b[0;32m    727\u001b[0m \u001b[43m            \u001b[49m\u001b[43mcopy\u001b[49m\u001b[38;5;241;43m=\u001b[39;49m\u001b[43mcopy\u001b[49m\u001b[43m,\u001b[49m\n\u001b[0;32m    728\u001b[0m \u001b[43m            \u001b[49m\u001b[43mtyp\u001b[49m\u001b[38;5;241;43m=\u001b[39;49m\u001b[43mmanager\u001b[49m\u001b[43m,\u001b[49m\n\u001b[0;32m    729\u001b[0m \u001b[43m        \u001b[49m\u001b[43m)\u001b[49m\n\u001b[0;32m    731\u001b[0m \u001b[38;5;66;03m# For data is list-like, or Iterable (will consume into list)\u001b[39;00m\n\u001b[0;32m    732\u001b[0m \u001b[38;5;28;01melif\u001b[39;00m is_list_like(data):\n",
      "File \u001b[1;32m~\\AppData\\Roaming\\Python\\Python310\\site-packages\\pandas\\core\\internals\\construction.py:329\u001b[0m, in \u001b[0;36mndarray_to_mgr\u001b[1;34m(values, index, columns, dtype, copy, typ)\u001b[0m\n\u001b[0;32m    324\u001b[0m         values \u001b[38;5;241m=\u001b[39m values\u001b[38;5;241m.\u001b[39mreshape(\u001b[38;5;241m-\u001b[39m\u001b[38;5;241m1\u001b[39m, \u001b[38;5;241m1\u001b[39m)\n\u001b[0;32m    326\u001b[0m \u001b[38;5;28;01melse\u001b[39;00m:\n\u001b[0;32m    327\u001b[0m     \u001b[38;5;66;03m# by definition an array here\u001b[39;00m\n\u001b[0;32m    328\u001b[0m     \u001b[38;5;66;03m# the dtypes will be coerced to a single dtype\u001b[39;00m\n\u001b[1;32m--> 329\u001b[0m     values \u001b[38;5;241m=\u001b[39m \u001b[43m_prep_ndarraylike\u001b[49m\u001b[43m(\u001b[49m\u001b[43mvalues\u001b[49m\u001b[43m,\u001b[49m\u001b[43m \u001b[49m\u001b[43mcopy\u001b[49m\u001b[38;5;241;43m=\u001b[39;49m\u001b[43mcopy_on_sanitize\u001b[49m\u001b[43m)\u001b[49m\n\u001b[0;32m    331\u001b[0m \u001b[38;5;28;01mif\u001b[39;00m dtype \u001b[38;5;129;01mis\u001b[39;00m \u001b[38;5;129;01mnot\u001b[39;00m \u001b[38;5;28;01mNone\u001b[39;00m \u001b[38;5;129;01mand\u001b[39;00m \u001b[38;5;129;01mnot\u001b[39;00m is_dtype_equal(values\u001b[38;5;241m.\u001b[39mdtype, dtype):\n\u001b[0;32m    332\u001b[0m     \u001b[38;5;66;03m# GH#40110 see similar check inside sanitize_array\u001b[39;00m\n\u001b[0;32m    333\u001b[0m     rcf \u001b[38;5;241m=\u001b[39m \u001b[38;5;129;01mnot\u001b[39;00m (is_integer_dtype(dtype) \u001b[38;5;129;01mand\u001b[39;00m values\u001b[38;5;241m.\u001b[39mdtype\u001b[38;5;241m.\u001b[39mkind \u001b[38;5;241m==\u001b[39m \u001b[38;5;124m\"\u001b[39m\u001b[38;5;124mf\u001b[39m\u001b[38;5;124m\"\u001b[39m)\n",
      "File \u001b[1;32m~\\AppData\\Roaming\\Python\\Python310\\site-packages\\pandas\\core\\internals\\construction.py:583\u001b[0m, in \u001b[0;36m_prep_ndarraylike\u001b[1;34m(values, copy)\u001b[0m\n\u001b[0;32m    581\u001b[0m     values \u001b[38;5;241m=\u001b[39m values\u001b[38;5;241m.\u001b[39mreshape((values\u001b[38;5;241m.\u001b[39mshape[\u001b[38;5;241m0\u001b[39m], \u001b[38;5;241m1\u001b[39m))\n\u001b[0;32m    582\u001b[0m \u001b[38;5;28;01melif\u001b[39;00m values\u001b[38;5;241m.\u001b[39mndim \u001b[38;5;241m!=\u001b[39m \u001b[38;5;241m2\u001b[39m:\n\u001b[1;32m--> 583\u001b[0m     \u001b[38;5;28;01mraise\u001b[39;00m \u001b[38;5;167;01mValueError\u001b[39;00m(\u001b[38;5;124mf\u001b[39m\u001b[38;5;124m\"\u001b[39m\u001b[38;5;124mMust pass 2-d input. shape=\u001b[39m\u001b[38;5;132;01m{\u001b[39;00mvalues\u001b[38;5;241m.\u001b[39mshape\u001b[38;5;132;01m}\u001b[39;00m\u001b[38;5;124m\"\u001b[39m)\n\u001b[0;32m    585\u001b[0m \u001b[38;5;28;01mreturn\u001b[39;00m values\n",
      "\u001b[1;31mValueError\u001b[0m: Must pass 2-d input. shape=(24, 312, 312)"
     ]
    }
   ],
   "source": [
    "clf = LazyClassifier(verbose=0,ignore_warnings=True, custom_metric=None)\n",
    "models,predictions = clf.fit(X_train, X_test, y_train, y_test)\n",
    "models"
   ]
  }
 ],
 "metadata": {
  "kernelspec": {
   "display_name": "Python 3 (ipykernel)",
   "language": "python",
   "name": "python3"
  },
  "language_info": {
   "codemirror_mode": {
    "name": "ipython",
    "version": 3
   },
   "file_extension": ".py",
   "mimetype": "text/x-python",
   "name": "python",
   "nbconvert_exporter": "python",
   "pygments_lexer": "ipython3",
   "version": "3.10.4"
  }
 },
 "nbformat": 4,
 "nbformat_minor": 5
}
