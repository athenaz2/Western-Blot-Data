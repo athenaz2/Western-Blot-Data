{
 "cells": [
  {
   "cell_type": "code",
   "execution_count": 1,
   "id": "53f01ebf",
   "metadata": {},
   "outputs": [],
   "source": [
    "from PIL import Image, ImageOps\n",
    "import os"
   ]
  },
  {
   "cell_type": "code",
   "execution_count": 2,
   "id": "b2948cb1",
   "metadata": {},
   "outputs": [],
   "source": [
    "src = r'C:\\Users\\athenaz2\\Documents\\Western-Blot-Data\\Images'\n",
    "\n",
    "for file in os.listdir(src):\n",
    "    img_path = os.path.join(src, file)\n",
    "    im = Image.open(img_path)\n",
    "    im = ImageOps.grayscale(im)\n",
    "    im.save(img_path)"
   ]
  }
 ],
 "metadata": {
  "kernelspec": {
   "display_name": "Python 3 (ipykernel)",
   "language": "python",
   "name": "python3"
  },
  "language_info": {
   "codemirror_mode": {
    "name": "ipython",
    "version": 3
   },
   "file_extension": ".py",
   "mimetype": "text/x-python",
   "name": "python",
   "nbconvert_exporter": "python",
   "pygments_lexer": "ipython3",
   "version": "3.10.4"
  }
 },
 "nbformat": 4,
 "nbformat_minor": 5
}
