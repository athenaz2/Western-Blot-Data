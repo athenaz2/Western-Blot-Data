{
 "cells": [
  {
   "cell_type": "markdown",
   "id": "1e2b0d93",
   "metadata": {},
   "source": [
    "### Import libraries"
   ]
  },
  {
   "cell_type": "code",
   "execution_count": 1,
   "id": "96185f66",
   "metadata": {},
   "outputs": [],
   "source": [
    "%%capture\n",
    "!pip install lightgbm --no-warn-script-location\n",
    "!pip install lazypredict --no-warn-script-location\n",
    "\n",
    "# import Lazy Predict classification library\n",
    "from lazypredict.Supervised import LazyClassifier, LazyRegressor\n",
    "from sklearn.model_selection import train_test_split\n",
    "\n",
    "# referenced code from [1] - [8] in https://kapernikov.com/tutorial-image-classification-with-scikit-learn/\n",
    "%matplotlib inline\n",
    "\n",
    "import matplotlib.pyplot as plt\n",
    "import numpy as np\n",
    "import os"
   ]
  },
  {
   "cell_type": "markdown",
   "id": "4b9332f2",
   "metadata": {},
   "source": [
    "### Prepare the data set"
   ]
  },
  {
   "cell_type": "code",
   "execution_count": 2,
   "id": "24583e25",
   "metadata": {},
   "outputs": [],
   "source": [
    "import joblib\n",
    "from skimage.io import imread\n",
    "from skimage.transform import resize\n",
    "\n",
    "def resize_all(src, pklname, width=150, height=None):\n",
    "    \"\"\"\n",
    "    load images from path, resize them and write them as arrays to a dictionary, \n",
    "    together with labels and metadata. The dictionary is written to a pickle file \n",
    "    named '{pklname}_{width}x{height}px.pkl'.\n",
    "     \n",
    "    Parameter\n",
    "    ---------\n",
    "    src: str\n",
    "        path to data\n",
    "    pklname: str\n",
    "        path to output file\n",
    "    width: int\n",
    "        target width of the image in pixels\n",
    "    include: set[str]\n",
    "        set containing str\n",
    "    \"\"\"\n",
    "     \n",
    "    height = height if height is not None else width\n",
    "     \n",
    "    data = dict()\n",
    "    data['description'] = 'resized ({0}x{1})western blot images in rgb'.format(int(width), int(height))\n",
    "    data['label'] = []\n",
    "    data['filename'] = []\n",
    "    data['data'] = []   \n",
    "     \n",
    "    pklname = f\"{pklname}_{width}x{height}px.pkl\"\n",
    "    \n",
    "    # read all images in PATH, resize and write to DESTINATION_PATH\n",
    "    for file in os.listdir(src):\n",
    "        img_path = os.path.join(src, file)\n",
    "        im = imread(img_path)\n",
    "        im = resize(im, (width, height))\n",
    "        data['label'].append(img_path[-8:-4])\n",
    "        data['filename'].append(img_path)\n",
    "        data['data'].append(im)\n",
    " \n",
    "        joblib.dump(data, pklname)"
   ]
  },
  {
   "cell_type": "code",
   "execution_count": 3,
   "id": "a408fdd1",
   "metadata": {},
   "outputs": [
    {
     "data": {
      "text/plain": [
       "['aTub_Lerit_Lab_2022-07-12_13h11m29s(Chemiluminescence)_mani.png',\n",
       " 'aTub_Lerit_Lab_2022-07-12_13h11m29s(Chemiluminescence)_orig.png',\n",
       " 'ECA_mani.png',\n",
       " 'ECA_orig.png',\n",
       " 'Figure2C--actin_mani.png',\n",
       " 'Figure2C--actin_orig.png',\n",
       " 'Figure2F_CD9+-actin_mani.png',\n",
       " 'Figure2F_CD9+-actin_orig.png',\n",
       " 'pone.0237759.s005_1_mani.png',\n",
       " 'pone.0237759.s005_1_orig.png',\n",
       " 'pone.0257259.s004_1_mani.png',\n",
       " 'pone.0257259.s004_1_orig.png',\n",
       " 'pone.0257259.s004_2_mani.png',\n",
       " 'pone.0257259.s004_2_orig.png',\n",
       " 'Raw_images_wetsern_blot_1_mani.png',\n",
       " 'Raw_images_wetsern_blot_1_orig.png',\n",
       " 'Raw_images_wetsern_blot_2_mani.png',\n",
       " 'Raw_images_wetsern_blot_2_orig.png',\n",
       " 'Raw_images_wetsern_blot_3_mani.png',\n",
       " 'Raw_images_wetsern_blot_3_orig.png',\n",
       " 'Raw_images_wetsern_blot_4_mani.png',\n",
       " 'Raw_images_wetsern_blot_4_orig.png',\n",
       " 'Raw_images_wetsern_blot_5_mani.png',\n",
       " 'Raw_images_wetsern_blot_5_orig.png',\n",
       " 'Raw_images_wetsern_blot_6_mani.png',\n",
       " 'Raw_images_wetsern_blot_6_orig.png',\n",
       " 'Raw_images_wetsern_blot_7_mani.png',\n",
       " 'Raw_images_wetsern_blot_7_orig.png',\n",
       " 'Raw_images_wetsern_blot_8_mani.png',\n",
       " 'Raw_images_wetsern_blot_8_orig.png',\n",
       " 'SCC25DDP_BMI1_mani.jpg',\n",
       " 'SCC25DDP_BMI1_orig.jpg',\n",
       " 'SCC25DDP_GAPDH_mani.jpg',\n",
       " 'SCC25DDP_GAPDH_orig.jpg',\n",
       " 'TSCCADDP_BMI1_mani.jpg',\n",
       " 'TSCCADDP_BMI1_orig.jpg',\n",
       " 'TSCCADDP_GAPDH_mani.jpg',\n",
       " 'TSCCADDP_GAPDH_orig.jpg',\n",
       " 'Western_blot_images_revised_COX-2_mani.png',\n",
       " 'Western_blot_images_revised_COX-2_orig.png',\n",
       " 'Western_blot_images_revised_GAPDH_mani.png',\n",
       " 'Western_blot_images_revised_GAPDH_orig.png',\n",
       " 'Western_blot_images_revised_pNF-kB_mani.png',\n",
       " 'Western_blot_images_revised_pNF-kB_orig.png',\n",
       " 'Western_blot_images_revised_TLR4_mani.png',\n",
       " 'Western_blot_images_revised_TLR4_orig.png',\n",
       " 'Western_blot_images_revised_tNF-kB_mani.png',\n",
       " 'Western_blot_images_revised_tNF-kB_orig.png']"
      ]
     },
     "execution_count": 3,
     "metadata": {},
     "output_type": "execute_result"
    }
   ],
   "source": [
    "data_path = r'C:\\Users\\athenaz2\\Documents\\Western-Blot-Data\\Images'\n",
    "os.listdir(data_path)"
   ]
  },
  {
   "cell_type": "code",
   "execution_count": 4,
   "id": "02f0808e",
   "metadata": {},
   "outputs": [],
   "source": [
    "base_name = 'wb_img'\n",
    "width = 312 \n",
    "\n",
    "resize_all(src = data_path, pklname = base_name, width = width)\n",
    "\n",
    "data = joblib.load(f'{base_name}_{width}x{width}px.pkl')"
   ]
  },
  {
   "cell_type": "code",
   "execution_count": 9,
   "id": "bb0f674b",
   "metadata": {},
   "outputs": [
    {
     "name": "stdout",
     "output_type": "stream",
     "text": [
      "count_3:  4672512\n",
      "count_4:  0\n",
      "count_sus:  0\n",
      "48 312 312 3\n"
     ]
    }
   ],
   "source": [
    "count_3 = 0\n",
    "count_4 = 0\n",
    "count_sus = 0\n",
    "\n",
    "for i in data['data']:\n",
    "    for j in i:\n",
    "        for k in j:\n",
    "            if len(k) == 4:\n",
    "                k = np.delete(k, 3)\n",
    "            \n",
    "            if len(k) == 3:\n",
    "                count_3 += 1\n",
    "            elif len(k) == 4:\n",
    "                count_4 += 1\n",
    "            else:\n",
    "                count_sus += 1\n",
    "                \n",
    "print('count_3: ', count_3)\n",
    "print('count_4: ', count_4)\n",
    "print('count_sus: ', count_sus)\n",
    "\n",
    "print(len(data['data']), len(data['data'][0]), len(data['data'][0][0]), len(data['data'][0][0][0]))"
   ]
  },
  {
   "cell_type": "code",
   "execution_count": null,
   "id": "f12f3850",
   "metadata": {},
   "outputs": [],
   "source": [
    "print"
   ]
  },
  {
   "cell_type": "code",
   "execution_count": 6,
   "id": "70153524",
   "metadata": {},
   "outputs": [
    {
     "name": "stdout",
     "output_type": "stream",
     "text": [
      "number of samples:  48\n",
      "keys:  ['description', 'label', 'filename', 'data']\n",
      "description:  resized (312x312)western blot images in rgb\n",
      "image shape:  (312, 312, 3)\n",
      "labels: ['mani' 'orig']\n"
     ]
    },
    {
     "data": {
      "text/plain": [
       "Counter({'mani': 24, 'orig': 24})"
      ]
     },
     "execution_count": 6,
     "metadata": {},
     "output_type": "execute_result"
    }
   ],
   "source": [
    "from collections import Counter\n",
    " \n",
    "print('number of samples: ', len(data['data']))\n",
    "print('keys: ', list(data.keys()))\n",
    "print('description: ', data['description'])\n",
    "print('image shape: ', data['data'][0].shape)\n",
    "print('labels:', np.unique(data['label']))\n",
    " \n",
    "Counter(data['label'])"
   ]
  },
  {
   "cell_type": "code",
   "execution_count": 7,
   "id": "96d56458",
   "metadata": {},
   "outputs": [
    {
     "data": {
      "image/png": "[encoded data removed]",
      "text/plain": [
       "<Figure size 1500x400 with 2 Axes>"
      ]
     },
     "metadata": {},
     "output_type": "display_data"
    }
   ],
   "source": [
    "# use np.unique to get all unique values in the list of labels\n",
    "labels = np.unique(data['label'])\n",
    " \n",
    "# set up the matplotlib figure and axes, based on the number of labels\n",
    "fig, axes = plt.subplots(1, len(labels))\n",
    "fig.set_size_inches(15,4)\n",
    "fig.tight_layout()\n",
    " \n",
    "# make a plot for every label (equipment) type. The index method returns the \n",
    "# index of the first item corresponding to its search string, label in this case\n",
    "for ax, label in zip(axes, labels):\n",
    "    idx = data['label'].index(label)\n",
    "     \n",
    "    ax.imshow(data['data'][idx])\n",
    "    ax.axis('off')\n",
    "    ax.set_title(label)"
   ]
  },
  {
   "cell_type": "code",
   "execution_count": 8,
   "id": "768f25d6",
   "metadata": {},
   "outputs": [
    {
     "ename": "ValueError",
     "evalue": "setting an array element with a sequence. The requested array has an inhomogeneous shape after 3 dimensions. The detected shape was (48, 312, 312) + inhomogeneous part.",
     "output_type": "error",
     "traceback": [
      "\u001b[1;31m---------------------------------------------------------------------------\u001b[0m",
      "\u001b[1;31mValueError\u001b[0m                                Traceback (most recent call last)",
      "Cell \u001b[1;32mIn[8], line 2\u001b[0m\n\u001b[0;32m      1\u001b[0m \u001b[38;5;66;03m# input data X\u001b[39;00m\n\u001b[1;32m----> 2\u001b[0m X \u001b[38;5;241m=\u001b[39m \u001b[43mnp\u001b[49m\u001b[38;5;241;43m.\u001b[39;49m\u001b[43marray\u001b[49m\u001b[43m(\u001b[49m\u001b[43mdata\u001b[49m\u001b[43m[\u001b[49m\u001b[38;5;124;43m'\u001b[39;49m\u001b[38;5;124;43mdata\u001b[39;49m\u001b[38;5;124;43m'\u001b[39;49m\u001b[43m]\u001b[49m\u001b[43m)\u001b[49m\n\u001b[0;32m      3\u001b[0m \u001b[38;5;66;03m# results (labels)\u001b[39;00m\n\u001b[0;32m      4\u001b[0m y \u001b[38;5;241m=\u001b[39m np\u001b[38;5;241m.\u001b[39marray(data[\u001b[38;5;124m'\u001b[39m\u001b[38;5;124mlabel\u001b[39m\u001b[38;5;124m'\u001b[39m])\n",
      "\u001b[1;31mValueError\u001b[0m: setting an array element with a sequence. The requested array has an inhomogeneous shape after 3 dimensions. The detected shape was (48, 312, 312) + inhomogeneous part."
     ]
    }
   ],
   "source": [
    "# input data X\n",
    "X = np.array(data['data'])\n",
    "# results (labels)\n",
    "y = np.array(data['label'])"
   ]
  },
  {
   "cell_type": "code",
   "execution_count": null,
   "id": "a1585260",
   "metadata": {},
   "outputs": [],
   "source": [
    "from sklearn.model_selection import train_test_split\n",
    " \n",
    "X_train, X_test, y_train, y_test = train_test_split(\n",
    "    X, \n",
    "    y, \n",
    "    test_size=0.2, \n",
    "    shuffle=True,\n",
    "    random_state=42,\n",
    ")"
   ]
  }
 ],
 "metadata": {
  "kernelspec": {
   "display_name": "Python 3 (ipykernel)",
   "language": "python",
   "name": "python3"
  },
  "language_info": {
   "codemirror_mode": {
    "name": "ipython",
    "version": 3
   },
   "file_extension": ".py",
   "mimetype": "text/x-python",
   "name": "python",
   "nbconvert_exporter": "python",
   "pygments_lexer": "ipython3",
   "version": "3.10.4"
  }
 },
 "nbformat": 4,
 "nbformat_minor": 5
}
